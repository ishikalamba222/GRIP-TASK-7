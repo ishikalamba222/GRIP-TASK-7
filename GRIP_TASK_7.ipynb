{
  "nbformat": 4,
  "nbformat_minor": 0,
  "metadata": {
    "colab": {
      "name": "GRIP TASK 7.ipynb",
      "provenance": [],
      "authorship_tag": "ABX9TyOmRoKnIrh5PkdRw8Peqfn4",
      "include_colab_link": true
    },
    "kernelspec": {
      "name": "python3",
      "display_name": "Python 3"
    },
    "language_info": {
      "name": "python"
    }
  },
  "cells": [
    {
      "cell_type": "markdown",
      "metadata": {
        "id": "view-in-github",
        "colab_type": "text"
      },
      "source": [
        "<a href=\"https://colab.research.google.com/github/ishikalamba222/GRIP-TASK-7/blob/main/GRIP_TASK_7.ipynb\" target=\"_parent\"><img src=\"https://colab.research.google.com/assets/colab-badge.svg\" alt=\"Open In Colab\"/></a>"
      ]
    },
    {
      "cell_type": "markdown",
      "metadata": {
        "id": "Idk-8ZmjORuG"
      },
      "source": [
        "TASK 7- Stock Market Prediction using\n",
        "Numerical and Textual Analysis.Create a hybrid model for stock price/performance\n",
        "prediction using numerical analysis of historical stock prices, and\n",
        "sentimental analysis of news headlines(BY-ISHIKA LAMBA)\n"
      ]
    },
    {
      "cell_type": "markdown",
      "metadata": {
        "id": "SxYDoOR1UvLl"
      },
      "source": [
        "USING LSTM"
      ]
    },
    {
      "cell_type": "markdown",
      "metadata": {
        "id": "pZikfKKFT0vB"
      },
      "source": [
        "DATASETS USED:\n",
        "HISTORICAL STOCK PRICES=https://finance.yahoo.com/  \n",
        "TEXTUAL NEWS HEADLINES=https://bit.ly/36fFPI6"
      ]
    },
    {
      "cell_type": "markdown",
      "metadata": {
        "id": "7Q5c0WayQEuP"
      },
      "source": [
        "IMPORTING THE LIBRARIES"
      ]
    },
    {
      "cell_type": "code",
      "metadata": {
        "id": "r_amOX1NLwNW",
        "colab": {
          "base_uri": "https://localhost:8080/"
        },
        "outputId": "b14215d7-201a-495e-8231-f9bdb837f801"
      },
      "source": [
        "import numpy as np\n",
        "import pandas as pd\n",
        "import matplotlib.pyplot as plt\n",
        "import datetime\n",
        "%matplotlib inline\n",
        "%pylab inline\n",
        "\n",
        "\n",
        "!pip install scikit-learn==0.23.2"
      ],
      "execution_count": 149,
      "outputs": [
        {
          "output_type": "stream",
          "text": [
            "Populating the interactive namespace from numpy and matplotlib\n",
            "Requirement already satisfied: scikit-learn==0.23.2 in /usr/local/lib/python3.7/dist-packages (0.23.2)\n",
            "Requirement already satisfied: threadpoolctl>=2.0.0 in /usr/local/lib/python3.7/dist-packages (from scikit-learn==0.23.2) (2.1.0)\n",
            "Requirement already satisfied: numpy>=1.13.3 in /usr/local/lib/python3.7/dist-packages (from scikit-learn==0.23.2) (1.19.5)\n",
            "Requirement already satisfied: scipy>=0.19.1 in /usr/local/lib/python3.7/dist-packages (from scikit-learn==0.23.2) (1.4.1)\n",
            "Requirement already satisfied: joblib>=0.11 in /usr/local/lib/python3.7/dist-packages (from scikit-learn==0.23.2) (1.0.1)\n"
          ],
          "name": "stdout"
        }
      ]
    },
    {
      "cell_type": "markdown",
      "metadata": {
        "id": "FRsbqs--XD1t"
      },
      "source": [
        "DATASET USED- IMPORTED STOCK PRICES FROM PAST FIVE YEARS"
      ]
    },
    {
      "cell_type": "markdown",
      "metadata": {
        "id": "OTBiVZh6Okck"
      },
      "source": [
        "IMPORTING THE DATASET"
      ]
    },
    {
      "cell_type": "code",
      "metadata": {
        "id": "HL1S5rbFOq8y"
      },
      "source": [
        "dataset=pd.read_csv('all_stocks_5yr.csv')\n"
      ],
      "execution_count": 94,
      "outputs": []
    },
    {
      "cell_type": "markdown",
      "metadata": {
        "id": "lrnfO4olQmms"
      },
      "source": [
        "KNOWING DATA"
      ]
    },
    {
      "cell_type": "code",
      "metadata": {
        "colab": {
          "base_uri": "https://localhost:8080/",
          "height": 204
        },
        "id": "hUvb-nu0QfXf",
        "outputId": "85611e61-eaa8-48b0-a766-575864483ec2"
      },
      "source": [
        "dataset.head()"
      ],
      "execution_count": 95,
      "outputs": [
        {
          "output_type": "execute_result",
          "data": {
            "text/html": [
              "<div>\n",
              "<style scoped>\n",
              "    .dataframe tbody tr th:only-of-type {\n",
              "        vertical-align: middle;\n",
              "    }\n",
              "\n",
              "    .dataframe tbody tr th {\n",
              "        vertical-align: top;\n",
              "    }\n",
              "\n",
              "    .dataframe thead th {\n",
              "        text-align: right;\n",
              "    }\n",
              "</style>\n",
              "<table border=\"1\" class=\"dataframe\">\n",
              "  <thead>\n",
              "    <tr style=\"text-align: right;\">\n",
              "      <th></th>\n",
              "      <th>date</th>\n",
              "      <th>open</th>\n",
              "      <th>high</th>\n",
              "      <th>low</th>\n",
              "      <th>close</th>\n",
              "      <th>volume</th>\n",
              "      <th>Name</th>\n",
              "    </tr>\n",
              "  </thead>\n",
              "  <tbody>\n",
              "    <tr>\n",
              "      <th>0</th>\n",
              "      <td>2013-02-08</td>\n",
              "      <td>15.07</td>\n",
              "      <td>15.12</td>\n",
              "      <td>14.63</td>\n",
              "      <td>14.75</td>\n",
              "      <td>8407500</td>\n",
              "      <td>AAL</td>\n",
              "    </tr>\n",
              "    <tr>\n",
              "      <th>1</th>\n",
              "      <td>2013-02-11</td>\n",
              "      <td>14.89</td>\n",
              "      <td>15.01</td>\n",
              "      <td>14.26</td>\n",
              "      <td>14.46</td>\n",
              "      <td>8882000</td>\n",
              "      <td>AAL</td>\n",
              "    </tr>\n",
              "    <tr>\n",
              "      <th>2</th>\n",
              "      <td>2013-02-12</td>\n",
              "      <td>14.45</td>\n",
              "      <td>14.51</td>\n",
              "      <td>14.10</td>\n",
              "      <td>14.27</td>\n",
              "      <td>8126000</td>\n",
              "      <td>AAL</td>\n",
              "    </tr>\n",
              "    <tr>\n",
              "      <th>3</th>\n",
              "      <td>2013-02-13</td>\n",
              "      <td>14.30</td>\n",
              "      <td>14.94</td>\n",
              "      <td>14.25</td>\n",
              "      <td>14.66</td>\n",
              "      <td>10259500</td>\n",
              "      <td>AAL</td>\n",
              "    </tr>\n",
              "    <tr>\n",
              "      <th>4</th>\n",
              "      <td>2013-02-14</td>\n",
              "      <td>14.94</td>\n",
              "      <td>14.96</td>\n",
              "      <td>13.16</td>\n",
              "      <td>13.99</td>\n",
              "      <td>31879900</td>\n",
              "      <td>AAL</td>\n",
              "    </tr>\n",
              "  </tbody>\n",
              "</table>\n",
              "</div>"
            ],
            "text/plain": [
              "         date   open   high    low  close    volume Name\n",
              "0  2013-02-08  15.07  15.12  14.63  14.75   8407500  AAL\n",
              "1  2013-02-11  14.89  15.01  14.26  14.46   8882000  AAL\n",
              "2  2013-02-12  14.45  14.51  14.10  14.27   8126000  AAL\n",
              "3  2013-02-13  14.30  14.94  14.25  14.66  10259500  AAL\n",
              "4  2013-02-14  14.94  14.96  13.16  13.99  31879900  AAL"
            ]
          },
          "metadata": {
            "tags": []
          },
          "execution_count": 95
        }
      ]
    },
    {
      "cell_type": "code",
      "metadata": {
        "colab": {
          "base_uri": "https://localhost:8080/",
          "height": 204
        },
        "id": "AVn2NNIGSS31",
        "outputId": "c521864d-ea5f-440a-8f24-22443fbaf8f5"
      },
      "source": [
        "dataset.tail()"
      ],
      "execution_count": 96,
      "outputs": [
        {
          "output_type": "execute_result",
          "data": {
            "text/html": [
              "<div>\n",
              "<style scoped>\n",
              "    .dataframe tbody tr th:only-of-type {\n",
              "        vertical-align: middle;\n",
              "    }\n",
              "\n",
              "    .dataframe tbody tr th {\n",
              "        vertical-align: top;\n",
              "    }\n",
              "\n",
              "    .dataframe thead th {\n",
              "        text-align: right;\n",
              "    }\n",
              "</style>\n",
              "<table border=\"1\" class=\"dataframe\">\n",
              "  <thead>\n",
              "    <tr style=\"text-align: right;\">\n",
              "      <th></th>\n",
              "      <th>date</th>\n",
              "      <th>open</th>\n",
              "      <th>high</th>\n",
              "      <th>low</th>\n",
              "      <th>close</th>\n",
              "      <th>volume</th>\n",
              "      <th>Name</th>\n",
              "    </tr>\n",
              "  </thead>\n",
              "  <tbody>\n",
              "    <tr>\n",
              "      <th>619035</th>\n",
              "      <td>2018-02-01</td>\n",
              "      <td>76.84</td>\n",
              "      <td>78.27</td>\n",
              "      <td>76.69</td>\n",
              "      <td>77.82</td>\n",
              "      <td>2982259</td>\n",
              "      <td>ZTS</td>\n",
              "    </tr>\n",
              "    <tr>\n",
              "      <th>619036</th>\n",
              "      <td>2018-02-02</td>\n",
              "      <td>77.53</td>\n",
              "      <td>78.12</td>\n",
              "      <td>76.73</td>\n",
              "      <td>76.78</td>\n",
              "      <td>2595187</td>\n",
              "      <td>ZTS</td>\n",
              "    </tr>\n",
              "    <tr>\n",
              "      <th>619037</th>\n",
              "      <td>2018-02-05</td>\n",
              "      <td>76.64</td>\n",
              "      <td>76.92</td>\n",
              "      <td>73.18</td>\n",
              "      <td>73.83</td>\n",
              "      <td>2962031</td>\n",
              "      <td>ZTS</td>\n",
              "    </tr>\n",
              "    <tr>\n",
              "      <th>619038</th>\n",
              "      <td>2018-02-06</td>\n",
              "      <td>72.74</td>\n",
              "      <td>74.56</td>\n",
              "      <td>72.13</td>\n",
              "      <td>73.27</td>\n",
              "      <td>4924323</td>\n",
              "      <td>ZTS</td>\n",
              "    </tr>\n",
              "    <tr>\n",
              "      <th>619039</th>\n",
              "      <td>2018-02-07</td>\n",
              "      <td>72.70</td>\n",
              "      <td>75.00</td>\n",
              "      <td>72.69</td>\n",
              "      <td>73.86</td>\n",
              "      <td>4534912</td>\n",
              "      <td>ZTS</td>\n",
              "    </tr>\n",
              "  </tbody>\n",
              "</table>\n",
              "</div>"
            ],
            "text/plain": [
              "              date   open   high    low  close   volume Name\n",
              "619035  2018-02-01  76.84  78.27  76.69  77.82  2982259  ZTS\n",
              "619036  2018-02-02  77.53  78.12  76.73  76.78  2595187  ZTS\n",
              "619037  2018-02-05  76.64  76.92  73.18  73.83  2962031  ZTS\n",
              "619038  2018-02-06  72.74  74.56  72.13  73.27  4924323  ZTS\n",
              "619039  2018-02-07  72.70  75.00  72.69  73.86  4534912  ZTS"
            ]
          },
          "metadata": {
            "tags": []
          },
          "execution_count": 96
        }
      ]
    },
    {
      "cell_type": "markdown",
      "metadata": {
        "id": "U38gnvr8QwM1"
      },
      "source": [
        "CHECKING IF OUR DATA HAS ANY NON APPLICABLE VALUE"
      ]
    },
    {
      "cell_type": "code",
      "metadata": {
        "colab": {
          "base_uri": "https://localhost:8080/"
        },
        "id": "Xk2Tys58Qq3p",
        "outputId": "009bcca1-cefe-4e6b-c294-0c0c1725c81c"
      },
      "source": [
        "dataset.isna().any()"
      ],
      "execution_count": 97,
      "outputs": [
        {
          "output_type": "execute_result",
          "data": {
            "text/plain": [
              "date      False\n",
              "open       True\n",
              "high       True\n",
              "low        True\n",
              "close     False\n",
              "volume    False\n",
              "Name      False\n",
              "dtype: bool"
            ]
          },
          "metadata": {
            "tags": []
          },
          "execution_count": 97
        }
      ]
    },
    {
      "cell_type": "code",
      "metadata": {
        "colab": {
          "base_uri": "https://localhost:8080/"
        },
        "id": "IjQbhtl8QuY_",
        "outputId": "465f2711-7c7a-49fc-be2f-7b7d6538eec9"
      },
      "source": [
        "dataset.info()"
      ],
      "execution_count": 98,
      "outputs": [
        {
          "output_type": "stream",
          "text": [
            "<class 'pandas.core.frame.DataFrame'>\n",
            "RangeIndex: 619040 entries, 0 to 619039\n",
            "Data columns (total 7 columns):\n",
            " #   Column  Non-Null Count   Dtype  \n",
            "---  ------  --------------   -----  \n",
            " 0   date    619040 non-null  object \n",
            " 1   open    619029 non-null  float64\n",
            " 2   high    619032 non-null  float64\n",
            " 3   low     619032 non-null  float64\n",
            " 4   close   619040 non-null  float64\n",
            " 5   volume  619040 non-null  int64  \n",
            " 6   Name    619040 non-null  object \n",
            "dtypes: float64(4), int64(1), object(2)\n",
            "memory usage: 33.1+ MB\n"
          ],
          "name": "stdout"
        }
      ]
    },
    {
      "cell_type": "code",
      "metadata": {
        "colab": {
          "base_uri": "https://localhost:8080/",
          "height": 419
        },
        "id": "1mgQsWZ0vsvX",
        "outputId": "1cdb7fde-45e8-4648-91ac-a92fcdfb1b52"
      },
      "source": [
        "dataset.drop(['Name'],axis=1)"
      ],
      "execution_count": 103,
      "outputs": [
        {
          "output_type": "execute_result",
          "data": {
            "text/html": [
              "<div>\n",
              "<style scoped>\n",
              "    .dataframe tbody tr th:only-of-type {\n",
              "        vertical-align: middle;\n",
              "    }\n",
              "\n",
              "    .dataframe tbody tr th {\n",
              "        vertical-align: top;\n",
              "    }\n",
              "\n",
              "    .dataframe thead th {\n",
              "        text-align: right;\n",
              "    }\n",
              "</style>\n",
              "<table border=\"1\" class=\"dataframe\">\n",
              "  <thead>\n",
              "    <tr style=\"text-align: right;\">\n",
              "      <th></th>\n",
              "      <th>date</th>\n",
              "      <th>open</th>\n",
              "      <th>high</th>\n",
              "      <th>low</th>\n",
              "      <th>close</th>\n",
              "      <th>volume</th>\n",
              "    </tr>\n",
              "  </thead>\n",
              "  <tbody>\n",
              "    <tr>\n",
              "      <th>0</th>\n",
              "      <td>2013-02-08</td>\n",
              "      <td>15.07</td>\n",
              "      <td>15.12</td>\n",
              "      <td>14.63</td>\n",
              "      <td>14.75</td>\n",
              "      <td>8407500</td>\n",
              "    </tr>\n",
              "    <tr>\n",
              "      <th>1</th>\n",
              "      <td>2013-02-11</td>\n",
              "      <td>14.89</td>\n",
              "      <td>15.01</td>\n",
              "      <td>14.26</td>\n",
              "      <td>14.46</td>\n",
              "      <td>8882000</td>\n",
              "    </tr>\n",
              "    <tr>\n",
              "      <th>2</th>\n",
              "      <td>2013-02-12</td>\n",
              "      <td>14.45</td>\n",
              "      <td>14.51</td>\n",
              "      <td>14.10</td>\n",
              "      <td>14.27</td>\n",
              "      <td>8126000</td>\n",
              "    </tr>\n",
              "    <tr>\n",
              "      <th>3</th>\n",
              "      <td>2013-02-13</td>\n",
              "      <td>14.30</td>\n",
              "      <td>14.94</td>\n",
              "      <td>14.25</td>\n",
              "      <td>14.66</td>\n",
              "      <td>10259500</td>\n",
              "    </tr>\n",
              "    <tr>\n",
              "      <th>4</th>\n",
              "      <td>2013-02-14</td>\n",
              "      <td>14.94</td>\n",
              "      <td>14.96</td>\n",
              "      <td>13.16</td>\n",
              "      <td>13.99</td>\n",
              "      <td>31879900</td>\n",
              "    </tr>\n",
              "    <tr>\n",
              "      <th>...</th>\n",
              "      <td>...</td>\n",
              "      <td>...</td>\n",
              "      <td>...</td>\n",
              "      <td>...</td>\n",
              "      <td>...</td>\n",
              "      <td>...</td>\n",
              "    </tr>\n",
              "    <tr>\n",
              "      <th>619035</th>\n",
              "      <td>2018-02-01</td>\n",
              "      <td>76.84</td>\n",
              "      <td>78.27</td>\n",
              "      <td>76.69</td>\n",
              "      <td>77.82</td>\n",
              "      <td>2982259</td>\n",
              "    </tr>\n",
              "    <tr>\n",
              "      <th>619036</th>\n",
              "      <td>2018-02-02</td>\n",
              "      <td>77.53</td>\n",
              "      <td>78.12</td>\n",
              "      <td>76.73</td>\n",
              "      <td>76.78</td>\n",
              "      <td>2595187</td>\n",
              "    </tr>\n",
              "    <tr>\n",
              "      <th>619037</th>\n",
              "      <td>2018-02-05</td>\n",
              "      <td>76.64</td>\n",
              "      <td>76.92</td>\n",
              "      <td>73.18</td>\n",
              "      <td>73.83</td>\n",
              "      <td>2962031</td>\n",
              "    </tr>\n",
              "    <tr>\n",
              "      <th>619038</th>\n",
              "      <td>2018-02-06</td>\n",
              "      <td>72.74</td>\n",
              "      <td>74.56</td>\n",
              "      <td>72.13</td>\n",
              "      <td>73.27</td>\n",
              "      <td>4924323</td>\n",
              "    </tr>\n",
              "    <tr>\n",
              "      <th>619039</th>\n",
              "      <td>2018-02-07</td>\n",
              "      <td>72.70</td>\n",
              "      <td>75.00</td>\n",
              "      <td>72.69</td>\n",
              "      <td>73.86</td>\n",
              "      <td>4534912</td>\n",
              "    </tr>\n",
              "  </tbody>\n",
              "</table>\n",
              "<p>619040 rows × 6 columns</p>\n",
              "</div>"
            ],
            "text/plain": [
              "              date   open   high    low  close    volume\n",
              "0       2013-02-08  15.07  15.12  14.63  14.75   8407500\n",
              "1       2013-02-11  14.89  15.01  14.26  14.46   8882000\n",
              "2       2013-02-12  14.45  14.51  14.10  14.27   8126000\n",
              "3       2013-02-13  14.30  14.94  14.25  14.66  10259500\n",
              "4       2013-02-14  14.94  14.96  13.16  13.99  31879900\n",
              "...            ...    ...    ...    ...    ...       ...\n",
              "619035  2018-02-01  76.84  78.27  76.69  77.82   2982259\n",
              "619036  2018-02-02  77.53  78.12  76.73  76.78   2595187\n",
              "619037  2018-02-05  76.64  76.92  73.18  73.83   2962031\n",
              "619038  2018-02-06  72.74  74.56  72.13  73.27   4924323\n",
              "619039  2018-02-07  72.70  75.00  72.69  73.86   4534912\n",
              "\n",
              "[619040 rows x 6 columns]"
            ]
          },
          "metadata": {
            "tags": []
          },
          "execution_count": 103
        }
      ]
    },
    {
      "cell_type": "code",
      "metadata": {
        "colab": {
          "base_uri": "https://localhost:8080/"
        },
        "id": "MI2FfAz_Q50D",
        "outputId": "0ccd46e4-819d-42f6-e76f-25db4af8dcdc"
      },
      "source": [
        "dataset.shape"
      ],
      "execution_count": 105,
      "outputs": [
        {
          "output_type": "execute_result",
          "data": {
            "text/plain": [
              "(619040, 7)"
            ]
          },
          "metadata": {
            "tags": []
          },
          "execution_count": 105
        }
      ]
    },
    {
      "cell_type": "markdown",
      "metadata": {
        "id": "F39Bg2T2R6bS"
      },
      "source": [
        "CHECKING NULL VALUES"
      ]
    },
    {
      "cell_type": "code",
      "metadata": {
        "colab": {
          "base_uri": "https://localhost:8080/",
          "height": 419
        },
        "id": "jHPw7NelQ8GN",
        "outputId": "31daa01b-2925-4c3c-d3e2-0578e7f86bce"
      },
      "source": [
        "dataset.isnull()"
      ],
      "execution_count": 104,
      "outputs": [
        {
          "output_type": "execute_result",
          "data": {
            "text/html": [
              "<div>\n",
              "<style scoped>\n",
              "    .dataframe tbody tr th:only-of-type {\n",
              "        vertical-align: middle;\n",
              "    }\n",
              "\n",
              "    .dataframe tbody tr th {\n",
              "        vertical-align: top;\n",
              "    }\n",
              "\n",
              "    .dataframe thead th {\n",
              "        text-align: right;\n",
              "    }\n",
              "</style>\n",
              "<table border=\"1\" class=\"dataframe\">\n",
              "  <thead>\n",
              "    <tr style=\"text-align: right;\">\n",
              "      <th></th>\n",
              "      <th>date</th>\n",
              "      <th>open</th>\n",
              "      <th>high</th>\n",
              "      <th>low</th>\n",
              "      <th>close</th>\n",
              "      <th>volume</th>\n",
              "      <th>Name</th>\n",
              "    </tr>\n",
              "  </thead>\n",
              "  <tbody>\n",
              "    <tr>\n",
              "      <th>0</th>\n",
              "      <td>False</td>\n",
              "      <td>False</td>\n",
              "      <td>False</td>\n",
              "      <td>False</td>\n",
              "      <td>False</td>\n",
              "      <td>False</td>\n",
              "      <td>False</td>\n",
              "    </tr>\n",
              "    <tr>\n",
              "      <th>1</th>\n",
              "      <td>False</td>\n",
              "      <td>False</td>\n",
              "      <td>False</td>\n",
              "      <td>False</td>\n",
              "      <td>False</td>\n",
              "      <td>False</td>\n",
              "      <td>False</td>\n",
              "    </tr>\n",
              "    <tr>\n",
              "      <th>2</th>\n",
              "      <td>False</td>\n",
              "      <td>False</td>\n",
              "      <td>False</td>\n",
              "      <td>False</td>\n",
              "      <td>False</td>\n",
              "      <td>False</td>\n",
              "      <td>False</td>\n",
              "    </tr>\n",
              "    <tr>\n",
              "      <th>3</th>\n",
              "      <td>False</td>\n",
              "      <td>False</td>\n",
              "      <td>False</td>\n",
              "      <td>False</td>\n",
              "      <td>False</td>\n",
              "      <td>False</td>\n",
              "      <td>False</td>\n",
              "    </tr>\n",
              "    <tr>\n",
              "      <th>4</th>\n",
              "      <td>False</td>\n",
              "      <td>False</td>\n",
              "      <td>False</td>\n",
              "      <td>False</td>\n",
              "      <td>False</td>\n",
              "      <td>False</td>\n",
              "      <td>False</td>\n",
              "    </tr>\n",
              "    <tr>\n",
              "      <th>...</th>\n",
              "      <td>...</td>\n",
              "      <td>...</td>\n",
              "      <td>...</td>\n",
              "      <td>...</td>\n",
              "      <td>...</td>\n",
              "      <td>...</td>\n",
              "      <td>...</td>\n",
              "    </tr>\n",
              "    <tr>\n",
              "      <th>619035</th>\n",
              "      <td>False</td>\n",
              "      <td>False</td>\n",
              "      <td>False</td>\n",
              "      <td>False</td>\n",
              "      <td>False</td>\n",
              "      <td>False</td>\n",
              "      <td>False</td>\n",
              "    </tr>\n",
              "    <tr>\n",
              "      <th>619036</th>\n",
              "      <td>False</td>\n",
              "      <td>False</td>\n",
              "      <td>False</td>\n",
              "      <td>False</td>\n",
              "      <td>False</td>\n",
              "      <td>False</td>\n",
              "      <td>False</td>\n",
              "    </tr>\n",
              "    <tr>\n",
              "      <th>619037</th>\n",
              "      <td>False</td>\n",
              "      <td>False</td>\n",
              "      <td>False</td>\n",
              "      <td>False</td>\n",
              "      <td>False</td>\n",
              "      <td>False</td>\n",
              "      <td>False</td>\n",
              "    </tr>\n",
              "    <tr>\n",
              "      <th>619038</th>\n",
              "      <td>False</td>\n",
              "      <td>False</td>\n",
              "      <td>False</td>\n",
              "      <td>False</td>\n",
              "      <td>False</td>\n",
              "      <td>False</td>\n",
              "      <td>False</td>\n",
              "    </tr>\n",
              "    <tr>\n",
              "      <th>619039</th>\n",
              "      <td>False</td>\n",
              "      <td>False</td>\n",
              "      <td>False</td>\n",
              "      <td>False</td>\n",
              "      <td>False</td>\n",
              "      <td>False</td>\n",
              "      <td>False</td>\n",
              "    </tr>\n",
              "  </tbody>\n",
              "</table>\n",
              "<p>619040 rows × 7 columns</p>\n",
              "</div>"
            ],
            "text/plain": [
              "         date   open   high    low  close  volume   Name\n",
              "0       False  False  False  False  False   False  False\n",
              "1       False  False  False  False  False   False  False\n",
              "2       False  False  False  False  False   False  False\n",
              "3       False  False  False  False  False   False  False\n",
              "4       False  False  False  False  False   False  False\n",
              "...       ...    ...    ...    ...    ...     ...    ...\n",
              "619035  False  False  False  False  False   False  False\n",
              "619036  False  False  False  False  False   False  False\n",
              "619037  False  False  False  False  False   False  False\n",
              "619038  False  False  False  False  False   False  False\n",
              "619039  False  False  False  False  False   False  False\n",
              "\n",
              "[619040 rows x 7 columns]"
            ]
          },
          "metadata": {
            "tags": []
          },
          "execution_count": 104
        }
      ]
    },
    {
      "cell_type": "markdown",
      "metadata": {
        "id": "jRSyXmp-RYop"
      },
      "source": [
        "PLOTTING GRAPH FOR OPEN VALUES OF STOCK"
      ]
    },
    {
      "cell_type": "code",
      "metadata": {
        "id": "JYuLyuBORIId",
        "colab": {
          "base_uri": "https://localhost:8080/"
        },
        "outputId": "93341b99-f6ca-463d-92d2-56719132bfe0"
      },
      "source": [
        "dataset['open'].plot(figsize=(16,6))\n"
      ],
      "execution_count": 106,
      "outputs": [
        {
          "output_type": "execute_result",
          "data": {
            "text/plain": [
              "<matplotlib.axes._subplots.AxesSubplot at 0x7fcf2afd9ed0>"
            ]
          },
          "metadata": {
            "tags": []
          },
          "execution_count": 106
        }
      ]
    },
    {
      "cell_type": "markdown",
      "metadata": {
        "id": "cnI0LA5jSJwR"
      },
      "source": [
        "CONVERTING ALL COUMNS INTO SIMILAR DATA TYPE"
      ]
    },
    {
      "cell_type": "code",
      "metadata": {
        "id": "iUsvaxC0SYrI"
      },
      "source": [
        "dataset['volume']=dataset['volume'].astype(str).str.replace(',','').astype(float)"
      ],
      "execution_count": 107,
      "outputs": []
    },
    {
      "cell_type": "markdown",
      "metadata": {
        "id": "X5a5aldGUrhp"
      },
      "source": [
        "CALCULATING SEVEN DAYS ROLLING"
      ]
    },
    {
      "cell_type": "code",
      "metadata": {
        "colab": {
          "base_uri": "https://localhost:8080/",
          "height": 669
        },
        "id": "eGDLgb25UmqZ",
        "outputId": "66261c4c-7d24-45f0-bf16-35780309a6ea"
      },
      "source": [
        "dataset.rolling(7).mean().head(20)  #for every single stock prediction we collect all data from 7 days a"
      ],
      "execution_count": 108,
      "outputs": [
        {
          "output_type": "execute_result",
          "data": {
            "text/html": [
              "<div>\n",
              "<style scoped>\n",
              "    .dataframe tbody tr th:only-of-type {\n",
              "        vertical-align: middle;\n",
              "    }\n",
              "\n",
              "    .dataframe tbody tr th {\n",
              "        vertical-align: top;\n",
              "    }\n",
              "\n",
              "    .dataframe thead th {\n",
              "        text-align: right;\n",
              "    }\n",
              "</style>\n",
              "<table border=\"1\" class=\"dataframe\">\n",
              "  <thead>\n",
              "    <tr style=\"text-align: right;\">\n",
              "      <th></th>\n",
              "      <th>open</th>\n",
              "      <th>high</th>\n",
              "      <th>low</th>\n",
              "      <th>close</th>\n",
              "      <th>volume</th>\n",
              "    </tr>\n",
              "  </thead>\n",
              "  <tbody>\n",
              "    <tr>\n",
              "      <th>0</th>\n",
              "      <td>NaN</td>\n",
              "      <td>NaN</td>\n",
              "      <td>NaN</td>\n",
              "      <td>NaN</td>\n",
              "      <td>NaN</td>\n",
              "    </tr>\n",
              "    <tr>\n",
              "      <th>1</th>\n",
              "      <td>NaN</td>\n",
              "      <td>NaN</td>\n",
              "      <td>NaN</td>\n",
              "      <td>NaN</td>\n",
              "      <td>NaN</td>\n",
              "    </tr>\n",
              "    <tr>\n",
              "      <th>2</th>\n",
              "      <td>NaN</td>\n",
              "      <td>NaN</td>\n",
              "      <td>NaN</td>\n",
              "      <td>NaN</td>\n",
              "      <td>NaN</td>\n",
              "    </tr>\n",
              "    <tr>\n",
              "      <th>3</th>\n",
              "      <td>NaN</td>\n",
              "      <td>NaN</td>\n",
              "      <td>NaN</td>\n",
              "      <td>NaN</td>\n",
              "      <td>NaN</td>\n",
              "    </tr>\n",
              "    <tr>\n",
              "      <th>4</th>\n",
              "      <td>NaN</td>\n",
              "      <td>NaN</td>\n",
              "      <td>NaN</td>\n",
              "      <td>NaN</td>\n",
              "      <td>NaN</td>\n",
              "    </tr>\n",
              "    <tr>\n",
              "      <th>5</th>\n",
              "      <td>NaN</td>\n",
              "      <td>NaN</td>\n",
              "      <td>NaN</td>\n",
              "      <td>NaN</td>\n",
              "      <td>NaN</td>\n",
              "    </tr>\n",
              "    <tr>\n",
              "      <th>6</th>\n",
              "      <td>14.558571</td>\n",
              "      <td>14.815714</td>\n",
              "      <td>14.058571</td>\n",
              "      <td>14.412857</td>\n",
              "      <td>1.350533e+07</td>\n",
              "    </tr>\n",
              "    <tr>\n",
              "      <th>7</th>\n",
              "      <td>14.430000</td>\n",
              "      <td>14.692857</td>\n",
              "      <td>13.847143</td>\n",
              "      <td>14.210000</td>\n",
              "      <td>1.440786e+07</td>\n",
              "    </tr>\n",
              "    <tr>\n",
              "      <th>8</th>\n",
              "      <td>14.248571</td>\n",
              "      <td>14.541429</td>\n",
              "      <td>13.652857</td>\n",
              "      <td>14.054286</td>\n",
              "      <td>1.484216e+07</td>\n",
              "    </tr>\n",
              "    <tr>\n",
              "      <th>9</th>\n",
              "      <td>14.122857</td>\n",
              "      <td>14.411429</td>\n",
              "      <td>13.525714</td>\n",
              "      <td>13.954286</td>\n",
              "      <td>1.454864e+07</td>\n",
              "    </tr>\n",
              "    <tr>\n",
              "      <th>10</th>\n",
              "      <td>14.022857</td>\n",
              "      <td>14.242857</td>\n",
              "      <td>13.347143</td>\n",
              "      <td>13.720000</td>\n",
              "      <td>1.410963e+07</td>\n",
              "    </tr>\n",
              "    <tr>\n",
              "      <th>11</th>\n",
              "      <td>13.765714</td>\n",
              "      <td>14.022857</td>\n",
              "      <td>13.281429</td>\n",
              "      <td>13.615714</td>\n",
              "      <td>1.090093e+07</td>\n",
              "    </tr>\n",
              "    <tr>\n",
              "      <th>12</th>\n",
              "      <td>13.672857</td>\n",
              "      <td>13.881429</td>\n",
              "      <td>13.174286</td>\n",
              "      <td>13.460000</td>\n",
              "      <td>9.724143e+06</td>\n",
              "    </tr>\n",
              "    <tr>\n",
              "      <th>13</th>\n",
              "      <td>13.552857</td>\n",
              "      <td>13.748571</td>\n",
              "      <td>13.075714</td>\n",
              "      <td>13.341429</td>\n",
              "      <td>8.979743e+06</td>\n",
              "    </tr>\n",
              "    <tr>\n",
              "      <th>14</th>\n",
              "      <td>13.438571</td>\n",
              "      <td>13.704286</td>\n",
              "      <td>13.100000</td>\n",
              "      <td>13.381429</td>\n",
              "      <td>7.929971e+06</td>\n",
              "    </tr>\n",
              "    <tr>\n",
              "      <th>15</th>\n",
              "      <td>13.421429</td>\n",
              "      <td>13.721429</td>\n",
              "      <td>13.181429</td>\n",
              "      <td>13.457143</td>\n",
              "      <td>7.394643e+06</td>\n",
              "    </tr>\n",
              "    <tr>\n",
              "      <th>16</th>\n",
              "      <td>13.484286</td>\n",
              "      <td>13.785714</td>\n",
              "      <td>13.252857</td>\n",
              "      <td>13.525714</td>\n",
              "      <td>7.623886e+06</td>\n",
              "    </tr>\n",
              "    <tr>\n",
              "      <th>17</th>\n",
              "      <td>13.615714</td>\n",
              "      <td>13.917143</td>\n",
              "      <td>13.431429</td>\n",
              "      <td>13.747143</td>\n",
              "      <td>8.489143e+06</td>\n",
              "    </tr>\n",
              "    <tr>\n",
              "      <th>18</th>\n",
              "      <td>13.838571</td>\n",
              "      <td>14.132857</td>\n",
              "      <td>13.688571</td>\n",
              "      <td>13.970000</td>\n",
              "      <td>8.447186e+06</td>\n",
              "    </tr>\n",
              "    <tr>\n",
              "      <th>19</th>\n",
              "      <td>14.082857</td>\n",
              "      <td>14.358571</td>\n",
              "      <td>13.925714</td>\n",
              "      <td>14.185714</td>\n",
              "      <td>8.904786e+06</td>\n",
              "    </tr>\n",
              "  </tbody>\n",
              "</table>\n",
              "</div>"
            ],
            "text/plain": [
              "         open       high        low      close        volume\n",
              "0         NaN        NaN        NaN        NaN           NaN\n",
              "1         NaN        NaN        NaN        NaN           NaN\n",
              "2         NaN        NaN        NaN        NaN           NaN\n",
              "3         NaN        NaN        NaN        NaN           NaN\n",
              "4         NaN        NaN        NaN        NaN           NaN\n",
              "5         NaN        NaN        NaN        NaN           NaN\n",
              "6   14.558571  14.815714  14.058571  14.412857  1.350533e+07\n",
              "7   14.430000  14.692857  13.847143  14.210000  1.440786e+07\n",
              "8   14.248571  14.541429  13.652857  14.054286  1.484216e+07\n",
              "9   14.122857  14.411429  13.525714  13.954286  1.454864e+07\n",
              "10  14.022857  14.242857  13.347143  13.720000  1.410963e+07\n",
              "11  13.765714  14.022857  13.281429  13.615714  1.090093e+07\n",
              "12  13.672857  13.881429  13.174286  13.460000  9.724143e+06\n",
              "13  13.552857  13.748571  13.075714  13.341429  8.979743e+06\n",
              "14  13.438571  13.704286  13.100000  13.381429  7.929971e+06\n",
              "15  13.421429  13.721429  13.181429  13.457143  7.394643e+06\n",
              "16  13.484286  13.785714  13.252857  13.525714  7.623886e+06\n",
              "17  13.615714  13.917143  13.431429  13.747143  8.489143e+06\n",
              "18  13.838571  14.132857  13.688571  13.970000  8.447186e+06\n",
              "19  14.082857  14.358571  13.925714  14.185714  8.904786e+06"
            ]
          },
          "metadata": {
            "tags": []
          },
          "execution_count": 108
        }
      ]
    },
    {
      "cell_type": "code",
      "metadata": {
        "id": "k78ysRSwUwjS",
        "colab": {
          "base_uri": "https://localhost:8080/"
        },
        "outputId": "cc0b0bd0-a61f-434c-8149-f88c8c4f6aaa"
      },
      "source": [
        "dataset['close:30 Day Mean']=dataset['close'].rolling(window=30).mean()\n",
        "dataset[['close','close:30 Day Mean']].plot(figsize(16,6))"
      ],
      "execution_count": 109,
      "outputs": [
        {
          "output_type": "execute_result",
          "data": {
            "text/plain": [
              "<matplotlib.axes._subplots.AxesSubplot at 0x7fcf266dc850>"
            ]
          },
          "metadata": {
            "tags": []
          },
          "execution_count": 109
        }
      ]
    },
    {
      "cell_type": "markdown",
      "metadata": {
        "id": "HyHNtcznWmPv"
      },
      "source": [
        "DATA PREPROCESSING"
      ]
    },
    {
      "cell_type": "markdown",
      "metadata": {
        "id": "Zlrw8Ax8We0c"
      },
      "source": [
        "CREATING FIRST DATAFRANE"
      ]
    },
    {
      "cell_type": "code",
      "metadata": {
        "id": "ZJmaFNMYWhii"
      },
      "source": [
        "training_data=dataset['open']\n",
        "training_data=pd.DataFrame(training_data)"
      ],
      "execution_count": 110,
      "outputs": []
    },
    {
      "cell_type": "code",
      "metadata": {
        "id": "iutFgBSzXEdT",
        "colab": {
          "base_uri": "https://localhost:8080/",
          "height": 419
        },
        "outputId": "c0910f76-9e6e-4c91-d13c-43c771e41f79"
      },
      "source": [
        "training_data"
      ],
      "execution_count": 111,
      "outputs": [
        {
          "output_type": "execute_result",
          "data": {
            "text/html": [
              "<div>\n",
              "<style scoped>\n",
              "    .dataframe tbody tr th:only-of-type {\n",
              "        vertical-align: middle;\n",
              "    }\n",
              "\n",
              "    .dataframe tbody tr th {\n",
              "        vertical-align: top;\n",
              "    }\n",
              "\n",
              "    .dataframe thead th {\n",
              "        text-align: right;\n",
              "    }\n",
              "</style>\n",
              "<table border=\"1\" class=\"dataframe\">\n",
              "  <thead>\n",
              "    <tr style=\"text-align: right;\">\n",
              "      <th></th>\n",
              "      <th>open</th>\n",
              "    </tr>\n",
              "  </thead>\n",
              "  <tbody>\n",
              "    <tr>\n",
              "      <th>0</th>\n",
              "      <td>15.07</td>\n",
              "    </tr>\n",
              "    <tr>\n",
              "      <th>1</th>\n",
              "      <td>14.89</td>\n",
              "    </tr>\n",
              "    <tr>\n",
              "      <th>2</th>\n",
              "      <td>14.45</td>\n",
              "    </tr>\n",
              "    <tr>\n",
              "      <th>3</th>\n",
              "      <td>14.30</td>\n",
              "    </tr>\n",
              "    <tr>\n",
              "      <th>4</th>\n",
              "      <td>14.94</td>\n",
              "    </tr>\n",
              "    <tr>\n",
              "      <th>...</th>\n",
              "      <td>...</td>\n",
              "    </tr>\n",
              "    <tr>\n",
              "      <th>619035</th>\n",
              "      <td>76.84</td>\n",
              "    </tr>\n",
              "    <tr>\n",
              "      <th>619036</th>\n",
              "      <td>77.53</td>\n",
              "    </tr>\n",
              "    <tr>\n",
              "      <th>619037</th>\n",
              "      <td>76.64</td>\n",
              "    </tr>\n",
              "    <tr>\n",
              "      <th>619038</th>\n",
              "      <td>72.74</td>\n",
              "    </tr>\n",
              "    <tr>\n",
              "      <th>619039</th>\n",
              "      <td>72.70</td>\n",
              "    </tr>\n",
              "  </tbody>\n",
              "</table>\n",
              "<p>619040 rows × 1 columns</p>\n",
              "</div>"
            ],
            "text/plain": [
              "         open\n",
              "0       15.07\n",
              "1       14.89\n",
              "2       14.45\n",
              "3       14.30\n",
              "4       14.94\n",
              "...       ...\n",
              "619035  76.84\n",
              "619036  77.53\n",
              "619037  76.64\n",
              "619038  72.74\n",
              "619039  72.70\n",
              "\n",
              "[619040 rows x 1 columns]"
            ]
          },
          "metadata": {
            "tags": []
          },
          "execution_count": 111
        }
      ]
    },
    {
      "cell_type": "markdown",
      "metadata": {
        "id": "zEdByuV6TvVf"
      },
      "source": [
        "FEATURE SCALING"
      ]
    },
    {
      "cell_type": "code",
      "metadata": {
        "id": "l5ORytcMTzZW"
      },
      "source": [
        "from sklearn.preprocessing import MinMaxScaler\n",
        "sc=MinMaxScaler(feature_range=(0,1))\n",
        "training_data_scaled=sc.fit_transform(training_data)\n"
      ],
      "execution_count": 112,
      "outputs": []
    },
    {
      "cell_type": "markdown",
      "metadata": {
        "id": "KMxg40t_VffT"
      },
      "source": [
        "CREATING A DATA STRUCTURE WITH 60 TIMESTEPS AND I OUTPUT\n"
      ]
    },
    {
      "cell_type": "code",
      "metadata": {
        "id": "mj_i6O0nVk0k"
      },
      "source": [
        "x_train=[]    #we take data from day 1 to day 60 and make the prediction on 61 day\n",
        "y_train=[]\n",
        "for i in range(60,1258):\n",
        "  x_train.append(training_data_scaled[i-60:i,0])\n",
        "  y_train.append(training_data_scaled[i,0])\n",
        "x_train,y_train=np.array(x_train),np.array(y_train)\n"
      ],
      "execution_count": 113,
      "outputs": []
    },
    {
      "cell_type": "markdown",
      "metadata": {
        "id": "K2PR1h9BWRSz"
      },
      "source": [
        "RESHAPING"
      ]
    },
    {
      "cell_type": "code",
      "metadata": {
        "id": "1DDMkWn_WSRk"
      },
      "source": [
        "x_train=np.reshape(x_train,(x_train.shape[0],x_train.shape[1],1))"
      ],
      "execution_count": 114,
      "outputs": []
    },
    {
      "cell_type": "code",
      "metadata": {
        "colab": {
          "base_uri": "https://localhost:8080/"
        },
        "id": "ISXP91OmWhIm",
        "outputId": "2a2f0c22-e7ff-4786-9ea9-358842997479"
      },
      "source": [
        "x_train"
      ],
      "execution_count": 115,
      "outputs": [
        {
          "output_type": "execute_result",
          "data": {
            "text/plain": [
              "array([[[0.00658545],\n",
              "        [0.00649732],\n",
              "        [0.00628189],\n",
              "        ...,\n",
              "        [0.00739334],\n",
              "        [0.00754022],\n",
              "        [0.00755491]],\n",
              "\n",
              "       [[0.00649732],\n",
              "        [0.00628189],\n",
              "        [0.00620844],\n",
              "        ...,\n",
              "        [0.00754022],\n",
              "        [0.00755491],\n",
              "        [0.00760387]],\n",
              "\n",
              "       [[0.00628189],\n",
              "        [0.00620844],\n",
              "        [0.0065218 ],\n",
              "        ...,\n",
              "        [0.00755491],\n",
              "        [0.00760387],\n",
              "        [0.00753533]],\n",
              "\n",
              "       ...,\n",
              "\n",
              "       [[0.0224444 ],\n",
              "        [0.02246888],\n",
              "        [0.02193519],\n",
              "        ...,\n",
              "        [0.02488763],\n",
              "        [0.02519609],\n",
              "        [0.02564655]],\n",
              "\n",
              "       [[0.02246888],\n",
              "        [0.02193519],\n",
              "        [0.02165611],\n",
              "        ...,\n",
              "        [0.02519609],\n",
              "        [0.02564655],\n",
              "        [0.02539684]],\n",
              "\n",
              "       [[0.02193519],\n",
              "        [0.02165611],\n",
              "        [0.02155329],\n",
              "        ...,\n",
              "        [0.02564655],\n",
              "        [0.02539684],\n",
              "        [0.0246624 ]]])"
            ]
          },
          "metadata": {
            "tags": []
          },
          "execution_count": 115
        }
      ]
    },
    {
      "cell_type": "markdown",
      "metadata": {
        "id": "CeSvezUgWnbJ"
      },
      "source": [
        "DATA PREPROCESSING"
      ]
    },
    {
      "cell_type": "markdown",
      "metadata": {
        "id": "mjg1Pd3SWjZY"
      },
      "source": [
        "BUILDUING THE RNN"
      ]
    },
    {
      "cell_type": "code",
      "metadata": {
        "id": "r7AnSsPpWl6i"
      },
      "source": [
        "from keras.models import Sequential\n",
        "from keras.layers import Dense\n",
        "from keras.layers import LSTM\n",
        "from keras.layers import Dropout"
      ],
      "execution_count": 117,
      "outputs": []
    },
    {
      "cell_type": "code",
      "metadata": {
        "id": "I77zLs3DXuKD"
      },
      "source": [
        "regressor=Sequential()"
      ],
      "execution_count": 118,
      "outputs": []
    },
    {
      "cell_type": "markdown",
      "metadata": {
        "id": "GiFp7t2qX5ng"
      },
      "source": [
        "TRAINING NEURAL NETWORK"
      ]
    },
    {
      "cell_type": "markdown",
      "metadata": {
        "id": "fOLUizAKXyzD"
      },
      "source": [
        "ADDING FIRST LSTM LAYER"
      ]
    },
    {
      "cell_type": "code",
      "metadata": {
        "id": "8_U3KJevX1dV"
      },
      "source": [
        "regressor.add(LSTM(units=50,return_sequences=True,input_shape=(x_train.shape[1],1)))\n",
        "regressor.add(Dropout(0.2))\n"
      ],
      "execution_count": 119,
      "outputs": []
    },
    {
      "cell_type": "markdown",
      "metadata": {
        "id": "8P3upodsYWQc"
      },
      "source": [
        "ADDING SECOND LSTM LAYER"
      ]
    },
    {
      "cell_type": "code",
      "metadata": {
        "id": "SJxXoHTKYaEz"
      },
      "source": [
        "regressor.add(LSTM(units=50,return_sequences=True))\n",
        "regressor.add(Dropout(0.2))"
      ],
      "execution_count": 120,
      "outputs": []
    },
    {
      "cell_type": "markdown",
      "metadata": {
        "id": "2ciNlP5yYgNg"
      },
      "source": [
        "ADDING THIRD LSTM LAYER"
      ]
    },
    {
      "cell_type": "code",
      "metadata": {
        "id": "v5XLaWXRYiG0"
      },
      "source": [
        "regressor.add(LSTM(units=50,return_sequences=True))\n",
        "regressor.add(Dropout(0.2))"
      ],
      "execution_count": 121,
      "outputs": []
    },
    {
      "cell_type": "markdown",
      "metadata": {
        "id": "VPgXKDxWYlpM"
      },
      "source": [
        "ADDING FOUTH LSTM LAYER"
      ]
    },
    {
      "cell_type": "code",
      "metadata": {
        "id": "x9V1MJvqYnrh"
      },
      "source": [
        "regressor.add(LSTM(units=50))\n",
        "regressor.add(Dropout(0.2))"
      ],
      "execution_count": 123,
      "outputs": []
    },
    {
      "cell_type": "markdown",
      "metadata": {
        "id": "wMv4ZOsgYs0M"
      },
      "source": [
        "ADDING THE OUTPUT LAYER"
      ]
    },
    {
      "cell_type": "code",
      "metadata": {
        "id": "iPfjgR2GYu1c"
      },
      "source": [
        "regressor.add(Dense(units=1))"
      ],
      "execution_count": 122,
      "outputs": []
    },
    {
      "cell_type": "markdown",
      "metadata": {
        "id": "aaj1pKuZYzSl"
      },
      "source": [
        "COMPILING THE RNN"
      ]
    },
    {
      "cell_type": "code",
      "metadata": {
        "id": "i3A5TGHOY03K"
      },
      "source": [
        "regressor.compile(optimizer='adam',loss='mean_squared_error')\n",
        "#optimizer can greatly affect how fast algorithm converges to the minimum value\n"
      ],
      "execution_count": 124,
      "outputs": []
    },
    {
      "cell_type": "markdown",
      "metadata": {
        "id": "otw2ONeaY_Xl"
      },
      "source": [
        "FITTING THE RNN TO TRAINING SET"
      ]
    },
    {
      "cell_type": "code",
      "metadata": {
        "colab": {
          "base_uri": "https://localhost:8080/"
        },
        "id": "LlyER2E5ZDJ2",
        "outputId": "be378449-2ff8-4f65-b132-82db63e0860c"
      },
      "source": [
        "regressor.fit(x_train,y_train,epochs=100,batch_size=32)\n",
        "#An epoch is a term used in machine learning and indicates the number of passes\n",
        "#of the entire training dataset the machine learning algorithm has completed. ...# If the batch size is the whole training dataset then the number of epochs is the number of iterations.\n",
        "\n",
        "#batchsize is number of training samples utilized in single iteration"
      ],
      "execution_count": 125,
      "outputs": [
        {
          "output_type": "stream",
          "text": [
            "Epoch 1/100\n",
            "38/38 [==============================] - 11s 107ms/step - loss: 2.0892e-04\n",
            "Epoch 2/100\n",
            "38/38 [==============================] - 4s 106ms/step - loss: 9.3304e-05\n",
            "Epoch 3/100\n",
            "38/38 [==============================] - 4s 107ms/step - loss: 9.1448e-05\n",
            "Epoch 4/100\n",
            "38/38 [==============================] - 4s 106ms/step - loss: 9.0086e-05\n",
            "Epoch 5/100\n",
            "38/38 [==============================] - 4s 107ms/step - loss: 8.6057e-05\n",
            "Epoch 6/100\n",
            "38/38 [==============================] - 4s 107ms/step - loss: 8.0142e-05\n",
            "Epoch 7/100\n",
            "38/38 [==============================] - 4s 107ms/step - loss: 8.1926e-05\n",
            "Epoch 8/100\n",
            "38/38 [==============================] - 4s 106ms/step - loss: 7.6973e-05\n",
            "Epoch 9/100\n",
            "38/38 [==============================] - 4s 106ms/step - loss: 7.7712e-05\n",
            "Epoch 10/100\n",
            "38/38 [==============================] - 4s 106ms/step - loss: 7.5480e-05\n",
            "Epoch 11/100\n",
            "38/38 [==============================] - 4s 107ms/step - loss: 7.5892e-05\n",
            "Epoch 12/100\n",
            "38/38 [==============================] - 4s 106ms/step - loss: 7.2556e-05\n",
            "Epoch 13/100\n",
            "38/38 [==============================] - 4s 108ms/step - loss: 7.6583e-05\n",
            "Epoch 14/100\n",
            "38/38 [==============================] - 4s 107ms/step - loss: 7.4958e-05\n",
            "Epoch 15/100\n",
            "38/38 [==============================] - 4s 106ms/step - loss: 7.7467e-05\n",
            "Epoch 16/100\n",
            "38/38 [==============================] - 4s 106ms/step - loss: 7.3300e-05\n",
            "Epoch 17/100\n",
            "38/38 [==============================] - 4s 106ms/step - loss: 7.5352e-05\n",
            "Epoch 18/100\n",
            "38/38 [==============================] - 4s 105ms/step - loss: 7.7800e-05\n",
            "Epoch 19/100\n",
            "38/38 [==============================] - 4s 107ms/step - loss: 7.3929e-05\n",
            "Epoch 20/100\n",
            "38/38 [==============================] - 4s 105ms/step - loss: 7.2741e-05\n",
            "Epoch 21/100\n",
            "38/38 [==============================] - 4s 106ms/step - loss: 7.4378e-05\n",
            "Epoch 22/100\n",
            "38/38 [==============================] - 4s 106ms/step - loss: 7.6339e-05\n",
            "Epoch 23/100\n",
            "38/38 [==============================] - 4s 107ms/step - loss: 7.5142e-05\n",
            "Epoch 24/100\n",
            "38/38 [==============================] - 4s 107ms/step - loss: 7.3606e-05\n",
            "Epoch 25/100\n",
            "38/38 [==============================] - 4s 106ms/step - loss: 7.5807e-05\n",
            "Epoch 26/100\n",
            "38/38 [==============================] - 4s 108ms/step - loss: 7.3937e-05\n",
            "Epoch 27/100\n",
            "38/38 [==============================] - 4s 108ms/step - loss: 7.1237e-05\n",
            "Epoch 28/100\n",
            "38/38 [==============================] - 4s 106ms/step - loss: 7.7893e-05\n",
            "Epoch 29/100\n",
            "38/38 [==============================] - 4s 106ms/step - loss: 7.3554e-05\n",
            "Epoch 30/100\n",
            "38/38 [==============================] - 4s 107ms/step - loss: 7.5378e-05\n",
            "Epoch 31/100\n",
            "38/38 [==============================] - 4s 108ms/step - loss: 7.3937e-05\n",
            "Epoch 32/100\n",
            "38/38 [==============================] - 4s 108ms/step - loss: 7.5896e-05\n",
            "Epoch 33/100\n",
            "38/38 [==============================] - 4s 108ms/step - loss: 7.3972e-05\n",
            "Epoch 34/100\n",
            "38/38 [==============================] - 4s 107ms/step - loss: 7.5062e-05\n",
            "Epoch 35/100\n",
            "38/38 [==============================] - 4s 107ms/step - loss: 7.5657e-05\n",
            "Epoch 36/100\n",
            "38/38 [==============================] - 4s 107ms/step - loss: 7.5539e-05\n",
            "Epoch 37/100\n",
            "38/38 [==============================] - 4s 107ms/step - loss: 7.3735e-05\n",
            "Epoch 38/100\n",
            "38/38 [==============================] - 4s 107ms/step - loss: 7.6093e-05\n",
            "Epoch 39/100\n",
            "38/38 [==============================] - 4s 107ms/step - loss: 7.5912e-05\n",
            "Epoch 40/100\n",
            "38/38 [==============================] - 4s 108ms/step - loss: 7.3244e-05\n",
            "Epoch 41/100\n",
            "38/38 [==============================] - 4s 108ms/step - loss: 7.5361e-05\n",
            "Epoch 42/100\n",
            "38/38 [==============================] - 4s 107ms/step - loss: 7.6715e-05\n",
            "Epoch 43/100\n",
            "38/38 [==============================] - 4s 108ms/step - loss: 7.8083e-05\n",
            "Epoch 44/100\n",
            "38/38 [==============================] - 4s 108ms/step - loss: 7.3904e-05\n",
            "Epoch 45/100\n",
            "38/38 [==============================] - 4s 108ms/step - loss: 7.6308e-05\n",
            "Epoch 46/100\n",
            "38/38 [==============================] - 4s 107ms/step - loss: 7.4587e-05\n",
            "Epoch 47/100\n",
            "38/38 [==============================] - 4s 106ms/step - loss: 7.4152e-05\n",
            "Epoch 48/100\n",
            "38/38 [==============================] - 4s 108ms/step - loss: 7.4116e-05\n",
            "Epoch 49/100\n",
            "38/38 [==============================] - 4s 107ms/step - loss: 7.5469e-05\n",
            "Epoch 50/100\n",
            "38/38 [==============================] - 4s 108ms/step - loss: 7.5308e-05\n",
            "Epoch 51/100\n",
            "38/38 [==============================] - 4s 106ms/step - loss: 7.3329e-05\n",
            "Epoch 52/100\n",
            "38/38 [==============================] - 4s 108ms/step - loss: 7.6620e-05\n",
            "Epoch 53/100\n",
            "38/38 [==============================] - 4s 108ms/step - loss: 7.5626e-05\n",
            "Epoch 54/100\n",
            "38/38 [==============================] - 4s 107ms/step - loss: 7.4848e-05\n",
            "Epoch 55/100\n",
            "38/38 [==============================] - 4s 107ms/step - loss: 7.6401e-05\n",
            "Epoch 56/100\n",
            "38/38 [==============================] - 4s 108ms/step - loss: 7.5317e-05\n",
            "Epoch 57/100\n",
            "38/38 [==============================] - 4s 107ms/step - loss: 7.5755e-05\n",
            "Epoch 58/100\n",
            "38/38 [==============================] - 4s 108ms/step - loss: 7.7841e-05\n",
            "Epoch 59/100\n",
            "38/38 [==============================] - 4s 108ms/step - loss: 7.6172e-05\n",
            "Epoch 60/100\n",
            "38/38 [==============================] - 4s 107ms/step - loss: 7.5551e-05\n",
            "Epoch 61/100\n",
            "38/38 [==============================] - 4s 107ms/step - loss: 7.5003e-05\n",
            "Epoch 62/100\n",
            "38/38 [==============================] - 4s 107ms/step - loss: 7.4944e-05\n",
            "Epoch 63/100\n",
            "38/38 [==============================] - 4s 109ms/step - loss: 7.6240e-05\n",
            "Epoch 64/100\n",
            "38/38 [==============================] - 4s 108ms/step - loss: 7.5485e-05\n",
            "Epoch 65/100\n",
            "38/38 [==============================] - 4s 108ms/step - loss: 7.3934e-05\n",
            "Epoch 66/100\n",
            "38/38 [==============================] - 4s 109ms/step - loss: 7.4514e-05\n",
            "Epoch 67/100\n",
            "38/38 [==============================] - 4s 107ms/step - loss: 7.5834e-05\n",
            "Epoch 68/100\n",
            "38/38 [==============================] - 4s 108ms/step - loss: 7.4707e-05\n",
            "Epoch 69/100\n",
            "38/38 [==============================] - 4s 108ms/step - loss: 7.4652e-05\n",
            "Epoch 70/100\n",
            "38/38 [==============================] - 4s 108ms/step - loss: 7.4765e-05\n",
            "Epoch 71/100\n",
            "38/38 [==============================] - 4s 109ms/step - loss: 7.5026e-05\n",
            "Epoch 72/100\n",
            "38/38 [==============================] - 4s 110ms/step - loss: 7.5619e-05\n",
            "Epoch 73/100\n",
            "38/38 [==============================] - 4s 107ms/step - loss: 7.3552e-05\n",
            "Epoch 74/100\n",
            "38/38 [==============================] - 4s 108ms/step - loss: 7.5285e-05\n",
            "Epoch 75/100\n",
            "38/38 [==============================] - 4s 108ms/step - loss: 7.5003e-05\n",
            "Epoch 76/100\n",
            "38/38 [==============================] - 4s 109ms/step - loss: 7.5605e-05\n",
            "Epoch 77/100\n",
            "38/38 [==============================] - 4s 108ms/step - loss: 7.5338e-05\n",
            "Epoch 78/100\n",
            "38/38 [==============================] - 4s 108ms/step - loss: 7.6923e-05\n",
            "Epoch 79/100\n",
            "38/38 [==============================] - 4s 108ms/step - loss: 7.6121e-05\n",
            "Epoch 80/100\n",
            "38/38 [==============================] - 4s 108ms/step - loss: 7.5314e-05\n",
            "Epoch 81/100\n",
            "38/38 [==============================] - 4s 109ms/step - loss: 7.5196e-05\n",
            "Epoch 82/100\n",
            "38/38 [==============================] - 4s 108ms/step - loss: 7.4515e-05\n",
            "Epoch 83/100\n",
            "38/38 [==============================] - 4s 108ms/step - loss: 7.4594e-05\n",
            "Epoch 84/100\n",
            "38/38 [==============================] - 4s 108ms/step - loss: 7.6133e-05\n",
            "Epoch 85/100\n",
            "38/38 [==============================] - 4s 108ms/step - loss: 7.4232e-05\n",
            "Epoch 86/100\n",
            "38/38 [==============================] - 4s 108ms/step - loss: 7.2900e-05\n",
            "Epoch 87/100\n",
            "38/38 [==============================] - 4s 109ms/step - loss: 7.6282e-05\n",
            "Epoch 88/100\n",
            "38/38 [==============================] - 4s 109ms/step - loss: 7.4556e-05\n",
            "Epoch 89/100\n",
            "38/38 [==============================] - 4s 108ms/step - loss: 7.5568e-05\n",
            "Epoch 90/100\n",
            "38/38 [==============================] - 4s 107ms/step - loss: 7.5175e-05\n",
            "Epoch 91/100\n",
            "38/38 [==============================] - 4s 109ms/step - loss: 7.6210e-05\n",
            "Epoch 92/100\n",
            "38/38 [==============================] - 4s 108ms/step - loss: 7.4628e-05\n",
            "Epoch 93/100\n",
            "38/38 [==============================] - 4s 108ms/step - loss: 7.5933e-05\n",
            "Epoch 94/100\n",
            "38/38 [==============================] - 4s 109ms/step - loss: 7.3768e-05\n",
            "Epoch 95/100\n",
            "38/38 [==============================] - 4s 108ms/step - loss: 7.5708e-05\n",
            "Epoch 96/100\n",
            "38/38 [==============================] - 4s 108ms/step - loss: 7.8530e-05\n",
            "Epoch 97/100\n",
            "38/38 [==============================] - 4s 108ms/step - loss: 7.4313e-05\n",
            "Epoch 98/100\n",
            "38/38 [==============================] - 4s 106ms/step - loss: 7.2177e-05\n",
            "Epoch 99/100\n",
            "38/38 [==============================] - 4s 108ms/step - loss: 7.4011e-05\n",
            "Epoch 100/100\n",
            "38/38 [==============================] - 4s 107ms/step - loss: 7.3925e-05\n"
          ],
          "name": "stdout"
        },
        {
          "output_type": "execute_result",
          "data": {
            "text/plain": [
              "<keras.callbacks.History at 0x7fcf2786c350>"
            ]
          },
          "metadata": {
            "tags": []
          },
          "execution_count": 125
        }
      ]
    },
    {
      "cell_type": "markdown",
      "metadata": {
        "id": "-tl7X2Q2atNg"
      },
      "source": [
        "  MAKING PREDICTIONS "
      ]
    },
    {
      "cell_type": "markdown",
      "metadata": {
        "id": "GMqlsziwzaDC"
      },
      "source": [
        "GETTING THE REAL PRICE OF STOCKS"
      ]
    },
    {
      "cell_type": "code",
      "metadata": {
        "id": "fIspTOaVZGip"
      },
      "source": [
        "dataset_test=pd.read_csv('all_stocks_5yr.csv',index_col='date',parse_dates=True)\n"
      ],
      "execution_count": 126,
      "outputs": []
    },
    {
      "cell_type": "code",
      "metadata": {
        "id": "hxndWpcqqr1n"
      },
      "source": [
        "real_stock_price=dataset_test.iloc[:,1:2].values"
      ],
      "execution_count": 127,
      "outputs": []
    },
    {
      "cell_type": "code",
      "metadata": {
        "colab": {
          "base_uri": "https://localhost:8080/",
          "height": 235
        },
        "id": "s6fuPOWNq5Xg",
        "outputId": "cee22d21-f55f-46b3-828c-a163a45805c2"
      },
      "source": [
        "dataset_test.head()"
      ],
      "execution_count": 128,
      "outputs": [
        {
          "output_type": "execute_result",
          "data": {
            "text/html": [
              "<div>\n",
              "<style scoped>\n",
              "    .dataframe tbody tr th:only-of-type {\n",
              "        vertical-align: middle;\n",
              "    }\n",
              "\n",
              "    .dataframe tbody tr th {\n",
              "        vertical-align: top;\n",
              "    }\n",
              "\n",
              "    .dataframe thead th {\n",
              "        text-align: right;\n",
              "    }\n",
              "</style>\n",
              "<table border=\"1\" class=\"dataframe\">\n",
              "  <thead>\n",
              "    <tr style=\"text-align: right;\">\n",
              "      <th></th>\n",
              "      <th>open</th>\n",
              "      <th>high</th>\n",
              "      <th>low</th>\n",
              "      <th>close</th>\n",
              "      <th>volume</th>\n",
              "      <th>Name</th>\n",
              "    </tr>\n",
              "    <tr>\n",
              "      <th>date</th>\n",
              "      <th></th>\n",
              "      <th></th>\n",
              "      <th></th>\n",
              "      <th></th>\n",
              "      <th></th>\n",
              "      <th></th>\n",
              "    </tr>\n",
              "  </thead>\n",
              "  <tbody>\n",
              "    <tr>\n",
              "      <th>2013-02-08</th>\n",
              "      <td>15.07</td>\n",
              "      <td>15.12</td>\n",
              "      <td>14.63</td>\n",
              "      <td>14.75</td>\n",
              "      <td>8407500</td>\n",
              "      <td>AAL</td>\n",
              "    </tr>\n",
              "    <tr>\n",
              "      <th>2013-02-11</th>\n",
              "      <td>14.89</td>\n",
              "      <td>15.01</td>\n",
              "      <td>14.26</td>\n",
              "      <td>14.46</td>\n",
              "      <td>8882000</td>\n",
              "      <td>AAL</td>\n",
              "    </tr>\n",
              "    <tr>\n",
              "      <th>2013-02-12</th>\n",
              "      <td>14.45</td>\n",
              "      <td>14.51</td>\n",
              "      <td>14.10</td>\n",
              "      <td>14.27</td>\n",
              "      <td>8126000</td>\n",
              "      <td>AAL</td>\n",
              "    </tr>\n",
              "    <tr>\n",
              "      <th>2013-02-13</th>\n",
              "      <td>14.30</td>\n",
              "      <td>14.94</td>\n",
              "      <td>14.25</td>\n",
              "      <td>14.66</td>\n",
              "      <td>10259500</td>\n",
              "      <td>AAL</td>\n",
              "    </tr>\n",
              "    <tr>\n",
              "      <th>2013-02-14</th>\n",
              "      <td>14.94</td>\n",
              "      <td>14.96</td>\n",
              "      <td>13.16</td>\n",
              "      <td>13.99</td>\n",
              "      <td>31879900</td>\n",
              "      <td>AAL</td>\n",
              "    </tr>\n",
              "  </tbody>\n",
              "</table>\n",
              "</div>"
            ],
            "text/plain": [
              "             open   high    low  close    volume Name\n",
              "date                                                 \n",
              "2013-02-08  15.07  15.12  14.63  14.75   8407500  AAL\n",
              "2013-02-11  14.89  15.01  14.26  14.46   8882000  AAL\n",
              "2013-02-12  14.45  14.51  14.10  14.27   8126000  AAL\n",
              "2013-02-13  14.30  14.94  14.25  14.66  10259500  AAL\n",
              "2013-02-14  14.94  14.96  13.16  13.99  31879900  AAL"
            ]
          },
          "metadata": {
            "tags": []
          },
          "execution_count": 128
        }
      ]
    },
    {
      "cell_type": "code",
      "metadata": {
        "colab": {
          "base_uri": "https://localhost:8080/"
        },
        "id": "DsYoSKH8q7_a",
        "outputId": "b96022c1-1c85-4602-c41d-edb56cd375b3"
      },
      "source": [
        "dataset_test.info()"
      ],
      "execution_count": 129,
      "outputs": [
        {
          "output_type": "stream",
          "text": [
            "<class 'pandas.core.frame.DataFrame'>\n",
            "DatetimeIndex: 619040 entries, 2013-02-08 to 2018-02-07\n",
            "Data columns (total 6 columns):\n",
            " #   Column  Non-Null Count   Dtype  \n",
            "---  ------  --------------   -----  \n",
            " 0   open    619029 non-null  float64\n",
            " 1   high    619032 non-null  float64\n",
            " 2   low     619032 non-null  float64\n",
            " 3   close   619040 non-null  float64\n",
            " 4   volume  619040 non-null  int64  \n",
            " 5   Name    619040 non-null  object \n",
            "dtypes: float64(4), int64(1), object(1)\n",
            "memory usage: 33.1+ MB\n"
          ],
          "name": "stdout"
        }
      ]
    },
    {
      "cell_type": "code",
      "metadata": {
        "colab": {
          "base_uri": "https://localhost:8080/",
          "height": 419
        },
        "id": "aPXpwjI_zXZF",
        "outputId": "68ba04a3-c086-49fa-9ab4-3dbdcd2d0324"
      },
      "source": [
        "dataset.drop(['Name'],axis=1)"
      ],
      "execution_count": 132,
      "outputs": [
        {
          "output_type": "execute_result",
          "data": {
            "text/html": [
              "<div>\n",
              "<style scoped>\n",
              "    .dataframe tbody tr th:only-of-type {\n",
              "        vertical-align: middle;\n",
              "    }\n",
              "\n",
              "    .dataframe tbody tr th {\n",
              "        vertical-align: top;\n",
              "    }\n",
              "\n",
              "    .dataframe thead th {\n",
              "        text-align: right;\n",
              "    }\n",
              "</style>\n",
              "<table border=\"1\" class=\"dataframe\">\n",
              "  <thead>\n",
              "    <tr style=\"text-align: right;\">\n",
              "      <th></th>\n",
              "      <th>date</th>\n",
              "      <th>open</th>\n",
              "      <th>high</th>\n",
              "      <th>low</th>\n",
              "      <th>close</th>\n",
              "      <th>volume</th>\n",
              "      <th>close:30 Day Mean</th>\n",
              "    </tr>\n",
              "  </thead>\n",
              "  <tbody>\n",
              "    <tr>\n",
              "      <th>0</th>\n",
              "      <td>2013-02-08</td>\n",
              "      <td>15.07</td>\n",
              "      <td>15.12</td>\n",
              "      <td>14.63</td>\n",
              "      <td>14.75</td>\n",
              "      <td>8407500.0</td>\n",
              "      <td>NaN</td>\n",
              "    </tr>\n",
              "    <tr>\n",
              "      <th>1</th>\n",
              "      <td>2013-02-11</td>\n",
              "      <td>14.89</td>\n",
              "      <td>15.01</td>\n",
              "      <td>14.26</td>\n",
              "      <td>14.46</td>\n",
              "      <td>8882000.0</td>\n",
              "      <td>NaN</td>\n",
              "    </tr>\n",
              "    <tr>\n",
              "      <th>2</th>\n",
              "      <td>2013-02-12</td>\n",
              "      <td>14.45</td>\n",
              "      <td>14.51</td>\n",
              "      <td>14.10</td>\n",
              "      <td>14.27</td>\n",
              "      <td>8126000.0</td>\n",
              "      <td>NaN</td>\n",
              "    </tr>\n",
              "    <tr>\n",
              "      <th>3</th>\n",
              "      <td>2013-02-13</td>\n",
              "      <td>14.30</td>\n",
              "      <td>14.94</td>\n",
              "      <td>14.25</td>\n",
              "      <td>14.66</td>\n",
              "      <td>10259500.0</td>\n",
              "      <td>NaN</td>\n",
              "    </tr>\n",
              "    <tr>\n",
              "      <th>4</th>\n",
              "      <td>2013-02-14</td>\n",
              "      <td>14.94</td>\n",
              "      <td>14.96</td>\n",
              "      <td>13.16</td>\n",
              "      <td>13.99</td>\n",
              "      <td>31879900.0</td>\n",
              "      <td>NaN</td>\n",
              "    </tr>\n",
              "    <tr>\n",
              "      <th>...</th>\n",
              "      <td>...</td>\n",
              "      <td>...</td>\n",
              "      <td>...</td>\n",
              "      <td>...</td>\n",
              "      <td>...</td>\n",
              "      <td>...</td>\n",
              "      <td>...</td>\n",
              "    </tr>\n",
              "    <tr>\n",
              "      <th>619035</th>\n",
              "      <td>2018-02-01</td>\n",
              "      <td>76.84</td>\n",
              "      <td>78.27</td>\n",
              "      <td>76.69</td>\n",
              "      <td>77.82</td>\n",
              "      <td>2982259.0</td>\n",
              "      <td>75.069333</td>\n",
              "    </tr>\n",
              "    <tr>\n",
              "      <th>619036</th>\n",
              "      <td>2018-02-02</td>\n",
              "      <td>77.53</td>\n",
              "      <td>78.12</td>\n",
              "      <td>76.73</td>\n",
              "      <td>76.78</td>\n",
              "      <td>2595187.0</td>\n",
              "      <td>75.202000</td>\n",
              "    </tr>\n",
              "    <tr>\n",
              "      <th>619037</th>\n",
              "      <td>2018-02-05</td>\n",
              "      <td>76.64</td>\n",
              "      <td>76.92</td>\n",
              "      <td>73.18</td>\n",
              "      <td>73.83</td>\n",
              "      <td>2962031.0</td>\n",
              "      <td>75.239333</td>\n",
              "    </tr>\n",
              "    <tr>\n",
              "      <th>619038</th>\n",
              "      <td>2018-02-06</td>\n",
              "      <td>72.74</td>\n",
              "      <td>74.56</td>\n",
              "      <td>72.13</td>\n",
              "      <td>73.27</td>\n",
              "      <td>4924323.0</td>\n",
              "      <td>75.272333</td>\n",
              "    </tr>\n",
              "    <tr>\n",
              "      <th>619039</th>\n",
              "      <td>2018-02-07</td>\n",
              "      <td>72.70</td>\n",
              "      <td>75.00</td>\n",
              "      <td>72.69</td>\n",
              "      <td>73.86</td>\n",
              "      <td>4534912.0</td>\n",
              "      <td>75.334667</td>\n",
              "    </tr>\n",
              "  </tbody>\n",
              "</table>\n",
              "<p>619040 rows × 7 columns</p>\n",
              "</div>"
            ],
            "text/plain": [
              "              date   open   high    low  close      volume  close:30 Day Mean\n",
              "0       2013-02-08  15.07  15.12  14.63  14.75   8407500.0                NaN\n",
              "1       2013-02-11  14.89  15.01  14.26  14.46   8882000.0                NaN\n",
              "2       2013-02-12  14.45  14.51  14.10  14.27   8126000.0                NaN\n",
              "3       2013-02-13  14.30  14.94  14.25  14.66  10259500.0                NaN\n",
              "4       2013-02-14  14.94  14.96  13.16  13.99  31879900.0                NaN\n",
              "...            ...    ...    ...    ...    ...         ...                ...\n",
              "619035  2018-02-01  76.84  78.27  76.69  77.82   2982259.0          75.069333\n",
              "619036  2018-02-02  77.53  78.12  76.73  76.78   2595187.0          75.202000\n",
              "619037  2018-02-05  76.64  76.92  73.18  73.83   2962031.0          75.239333\n",
              "619038  2018-02-06  72.74  74.56  72.13  73.27   4924323.0          75.272333\n",
              "619039  2018-02-07  72.70  75.00  72.69  73.86   4534912.0          75.334667\n",
              "\n",
              "[619040 rows x 7 columns]"
            ]
          },
          "metadata": {
            "tags": []
          },
          "execution_count": 132
        }
      ]
    },
    {
      "cell_type": "code",
      "metadata": {
        "id": "eapCaF6nq9QD"
      },
      "source": [
        "dataset['volume']=dataset['volume'].astype(str).str.replace(',','').astype(float)"
      ],
      "execution_count": 133,
      "outputs": []
    },
    {
      "cell_type": "code",
      "metadata": {
        "id": "b8iuI69FrRa5"
      },
      "source": [
        "test_set=dataset_test['open']\n",
        "test_set=pd.DataFrame(test_set)"
      ],
      "execution_count": 136,
      "outputs": []
    },
    {
      "cell_type": "code",
      "metadata": {
        "colab": {
          "base_uri": "https://localhost:8080/",
          "height": 450
        },
        "id": "_oy0QlIUz3df",
        "outputId": "aafa0153-1171-444c-af3a-06df390f5269"
      },
      "source": [
        "test_set"
      ],
      "execution_count": 138,
      "outputs": [
        {
          "output_type": "execute_result",
          "data": {
            "text/html": [
              "<div>\n",
              "<style scoped>\n",
              "    .dataframe tbody tr th:only-of-type {\n",
              "        vertical-align: middle;\n",
              "    }\n",
              "\n",
              "    .dataframe tbody tr th {\n",
              "        vertical-align: top;\n",
              "    }\n",
              "\n",
              "    .dataframe thead th {\n",
              "        text-align: right;\n",
              "    }\n",
              "</style>\n",
              "<table border=\"1\" class=\"dataframe\">\n",
              "  <thead>\n",
              "    <tr style=\"text-align: right;\">\n",
              "      <th></th>\n",
              "      <th>open</th>\n",
              "    </tr>\n",
              "    <tr>\n",
              "      <th>date</th>\n",
              "      <th></th>\n",
              "    </tr>\n",
              "  </thead>\n",
              "  <tbody>\n",
              "    <tr>\n",
              "      <th>2013-02-08</th>\n",
              "      <td>15.07</td>\n",
              "    </tr>\n",
              "    <tr>\n",
              "      <th>2013-02-11</th>\n",
              "      <td>14.89</td>\n",
              "    </tr>\n",
              "    <tr>\n",
              "      <th>2013-02-12</th>\n",
              "      <td>14.45</td>\n",
              "    </tr>\n",
              "    <tr>\n",
              "      <th>2013-02-13</th>\n",
              "      <td>14.30</td>\n",
              "    </tr>\n",
              "    <tr>\n",
              "      <th>2013-02-14</th>\n",
              "      <td>14.94</td>\n",
              "    </tr>\n",
              "    <tr>\n",
              "      <th>...</th>\n",
              "      <td>...</td>\n",
              "    </tr>\n",
              "    <tr>\n",
              "      <th>2018-02-01</th>\n",
              "      <td>76.84</td>\n",
              "    </tr>\n",
              "    <tr>\n",
              "      <th>2018-02-02</th>\n",
              "      <td>77.53</td>\n",
              "    </tr>\n",
              "    <tr>\n",
              "      <th>2018-02-05</th>\n",
              "      <td>76.64</td>\n",
              "    </tr>\n",
              "    <tr>\n",
              "      <th>2018-02-06</th>\n",
              "      <td>72.74</td>\n",
              "    </tr>\n",
              "    <tr>\n",
              "      <th>2018-02-07</th>\n",
              "      <td>72.70</td>\n",
              "    </tr>\n",
              "  </tbody>\n",
              "</table>\n",
              "<p>619040 rows × 1 columns</p>\n",
              "</div>"
            ],
            "text/plain": [
              "             open\n",
              "date             \n",
              "2013-02-08  15.07\n",
              "2013-02-11  14.89\n",
              "2013-02-12  14.45\n",
              "2013-02-13  14.30\n",
              "2013-02-14  14.94\n",
              "...           ...\n",
              "2018-02-01  76.84\n",
              "2018-02-02  77.53\n",
              "2018-02-05  76.64\n",
              "2018-02-06  72.74\n",
              "2018-02-07  72.70\n",
              "\n",
              "[619040 rows x 1 columns]"
            ]
          },
          "metadata": {
            "tags": []
          },
          "execution_count": 138
        }
      ]
    },
    {
      "cell_type": "code",
      "metadata": {
        "colab": {
          "base_uri": "https://localhost:8080/"
        },
        "id": "rGf1aJNzrnGn",
        "outputId": "fb8bcf66-37d6-465c-faf7-e9415a497e68"
      },
      "source": [
        "test_set.info()"
      ],
      "execution_count": 139,
      "outputs": [
        {
          "output_type": "stream",
          "text": [
            "<class 'pandas.core.frame.DataFrame'>\n",
            "DatetimeIndex: 619040 entries, 2013-02-08 to 2018-02-07\n",
            "Data columns (total 1 columns):\n",
            " #   Column  Non-Null Count   Dtype  \n",
            "---  ------  --------------   -----  \n",
            " 0   open    619029 non-null  float64\n",
            "dtypes: float64(1)\n",
            "memory usage: 9.4 MB\n"
          ],
          "name": "stdout"
        }
      ]
    },
    {
      "cell_type": "code",
      "metadata": {
        "id": "U_RE6Nkcrq6K"
      },
      "source": [
        "dataset_total=pd.concat((dataset['open'],dataset_test['open']),axis=0)\n",
        "inputs=dataset_total[len(dataset_total)-len(dataset_test)-60:].values\n",
        "inputs=inputs.reshape(-1,1)\n",
        "x_test=[]\n",
        "for i in range(60,80):\n",
        "  x_test.append(inputs[i-60:i,0])\n",
        "x_test=np.array(x_test)\n",
        "x_test=np.reshape(x_test,(x_test.shape[0],x_test.shape[1],1))\n",
        "predicted_stock_price=regressor.predict(x_test)\n",
        "predicted_stock_price=sc.inverse_transform(predicted_stock_price)"
      ],
      "execution_count": 143,
      "outputs": []
    },
    {
      "cell_type": "markdown",
      "metadata": {
        "id": "HgK1BDwV1NDS"
      },
      "source": [
        "VISUALISING THE RESULTS"
      ]
    },
    {
      "cell_type": "code",
      "metadata": {
        "colab": {
          "base_uri": "https://localhost:8080/",
          "height": 820
        },
        "id": "OGlTNblI1MlT",
        "outputId": "c9913b95-40d3-4633-cac9-26e6864563ae"
      },
      "source": [
        "plt.plot(real_stock_price,color='red',label='Real Google Stock Price')\n",
        "plt.plot(predicted_stock_price,color='blue',label='Predicted Google Stock Price ')\n",
        "plt.title('Google Stock Price preidction')\n",
        "plt.xlabel('Time')\n",
        "plt.ylabel('Google StocPrice')\n",
        "plt.legend()\n",
        "plt.show()\n"
      ],
      "execution_count": 150,
      "outputs": [
        {
          "output_type": "display_data",
          "data": {
            "image/png": "[encoded data removed]",
            "text/plain": [
              "<Figure size 432x288 with 1 Axes>"
            ]
          },
          "metadata": {
            "tags": [],
            "needs_background": "light"
          }
        }
      ]
    }
  ]
}